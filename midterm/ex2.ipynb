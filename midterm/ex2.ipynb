{
 "cells": [
  {
   "cell_type": "code",
   "execution_count": 2,
   "metadata": {},
   "outputs": [
    {
     "name": "stdout",
     "output_type": "stream",
     "text": [
      "0.35\n"
     ]
    }
   ],
   "source": [
    "from pyDatalog import pyDatalog as pyd\n",
    "\n",
    "def f(a ,b ,c): \n",
    "    return max(0.6*a, 0.4*b, 0.7*c) \n",
    "\n",
    "r = [[0.5,0.2,0.4], [0.5,0.7,0.1],[0.2,0.5,0.5]] \n",
    "ans = 0 \n",
    "\n",
    "for i in r: \n",
    "    answer = max(ans, f(i[0], i[1], i[2])) \n",
    "\n",
    "print(answer)"
   ]
  },
  {
   "cell_type": "code",
   "execution_count": null,
   "metadata": {
    "collapsed": true
   },
   "outputs": [],
   "source": []
  }
 ],
 "metadata": {
  "kernelspec": {
   "display_name": "Python 3",
   "language": "python",
   "name": "python3"
  },
  "language_info": {
   "codemirror_mode": {
    "name": "ipython",
    "version": 3
   },
   "file_extension": ".py",
   "mimetype": "text/x-python",
   "name": "python",
   "nbconvert_exporter": "python",
   "pygments_lexer": "ipython3",
   "version": "3.6.1"
  }
 },
 "nbformat": 4,
 "nbformat_minor": 2
}
