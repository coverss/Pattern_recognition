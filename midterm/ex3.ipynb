{
 "cells": [
  {
   "cell_type": "code",
   "execution_count": 6,
   "metadata": {},
   "outputs": [
    {
     "name": "stdout",
     "output_type": "stream",
     "text": [
      "I am my own deduwka\n"
     ]
    }
   ],
   "source": [
    "from pyDatalog import pyDatalog\n",
    "from pyDatalog import pyEngine\n",
    "\n",
    "pyDatalog.create_terms('X,Y,Z,U,W, zhenaty,otec,deduwka')\n",
    "\n",
    "+zhenaty(1, 2)\n",
    "+zhenaty(3, 4)\n",
    "\n",
    "zhenaty(X,Y) <= zhenaty(Y,X)\n",
    "\n",
    "\n",
    "+otec(1, 5)\n",
    "+otec(2, 5)\n",
    "+otec(3, 6)\n",
    "+otec(4, 6)\n",
    "+otec(3, 1)\n",
    "+otec(2, 4)\n",
    "\n",
    "otec(X,Y) <= otec(X, Y)\n",
    "otec(Z, Y) <= otec(X, Y) & zhenaty(X, Z)\n",
    "deduwka(X, Y) <= otec(Z, Y) & otec(X, Z)\n",
    "\n",
    "if(deduwka(1, 1)):\n",
    "    print('I am my own deduwka')"
   ]
  },
  {
   "cell_type": "code",
   "execution_count": null,
   "metadata": {
    "collapsed": true
   },
   "outputs": [],
   "source": []
  }
 ],
 "metadata": {
  "kernelspec": {
   "display_name": "Python 3",
   "language": "python",
   "name": "python3"
  },
  "language_info": {
   "codemirror_mode": {
    "name": "ipython",
    "version": 3
   },
   "file_extension": ".py",
   "mimetype": "text/x-python",
   "name": "python",
   "nbconvert_exporter": "python",
   "pygments_lexer": "ipython3",
   "version": "3.6.1"
  }
 },
 "nbformat": 4,
 "nbformat_minor": 2
}
