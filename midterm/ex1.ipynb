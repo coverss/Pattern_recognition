{
 "cells": [
  {
   "cell_type": "code",
   "execution_count": 22,
   "metadata": {
    "scrolled": true
   },
   "outputs": [
    {
     "name": "stdout",
     "output_type": "stream",
     "text": [
      "(A∨¬A)↔B\n",
      "X | Y | F\n",
      "--|---|--\n",
      "1 | 1 | 1\n",
      "1 | 0 | 0\n",
      "0 | 1 | 1\n",
      "0 | 0 | 0\n",
      "A∨B\n",
      "X | Y | F\n",
      "--|---|--\n",
      "1 | 1 | 1\n",
      "1 | 0 | 1\n",
      "0 | 1 | 1\n",
      "0 | 0 | 0\n",
      "(A→B)∧(B→A)\n",
      "X | Y | F\n",
      "--|---|--\n",
      "1 | 1 | 1\n",
      "1 | 0 | 0\n",
      "0 | 1 | 0\n",
      "0 | 0 | 1\n",
      "(A∨(B∧¬A))∨(A∨¬(B∨A))\n",
      "X | Y | F\n",
      "--|---|--\n",
      "1 | 1 | 1\n",
      "1 | 0 | 1\n",
      "0 | 1 | 1\n",
      "0 | 0 | 1\n"
     ]
    }
   ],
   "source": [
    "from pyDatalog import pyDatalog as pyd\n",
    "\n",
    "values = [0, 1]\n",
    "\n",
    "\n",
    "\n",
    "def first(a, b):\n",
    "    return( (not(a or not(a)) or b) and (not(b) or (a or not(a))) )\n",
    "\n",
    "def second(a, b):\n",
    "    return( a or b )\n",
    "\n",
    "def third(a, b):\n",
    "    return( (not(a) or b) and (not(b) or a) )\n",
    "\n",
    "def fourth(a, b):\n",
    "    return( (a or (b and not(a))) or (a or not(b or a)) )\n",
    "    \n",
    "pyd.create_terms('X, Y, F, first, second, third, fourth')\n",
    "    \n",
    "\n",
    "print('(A∨¬A)↔B')\n",
    "print( (X.in_(values)) & (Y.in_(values) & (F==first(X,Y))))\n",
    "\n",
    "\n",
    "\n",
    "print('A∨B')\n",
    "print( (X.in_(values)) & (Y.in_(values) & (F==second(X,Y))))\n",
    "\n",
    "\n",
    "print('(A→B)∧(B→A)')\n",
    "print( (X.in_(values)) & (Y.in_(values) & (F==third(X,Y))))\n",
    "\n",
    "\n",
    "print('(A∨(B∧¬A))∨(A∨¬(B∨A))')\n",
    "print( (X.in_(values)) & (Y.in_(values) & (F==fourth(X,Y))))\n"
   ]
  },
  {
   "cell_type": "code",
   "execution_count": null,
   "metadata": {
    "collapsed": true
   },
   "outputs": [],
   "source": []
  },
  {
   "cell_type": "code",
   "execution_count": null,
   "metadata": {
    "collapsed": true
   },
   "outputs": [],
   "source": []
  }
 ],
 "metadata": {
  "kernelspec": {
   "display_name": "Python 3",
   "language": "python",
   "name": "python3"
  },
  "language_info": {
   "codemirror_mode": {
    "name": "ipython",
    "version": 3
   },
   "file_extension": ".py",
   "mimetype": "text/x-python",
   "name": "python",
   "nbconvert_exporter": "python",
   "pygments_lexer": "ipython3",
   "version": "3.6.1"
  }
 },
 "nbformat": 4,
 "nbformat_minor": 2
}
